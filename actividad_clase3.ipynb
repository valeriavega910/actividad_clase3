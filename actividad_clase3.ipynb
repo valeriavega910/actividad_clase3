{
 "cells": [
  {
   "cell_type": "markdown",
   "metadata": {},
   "source": [
    "Crear un Archivo Jupyter Notebook:\n",
    "\n",
    "Descarga este archivo de instrucciones como referencia.\n",
    "Crea un nuevo archivo Jupyter Notebook llamado actividad_clase3.ipynb.\n",
    "Editar el Archivo Jupyter Notebook:\n",
    "\n",
    "Abre actividad_clase3.ipynb con Jupyter Notebook.\n",
    "Completa el contenido del archivo según las siguientes especificaciones:\n",
    "Contenido del Archivo actividad_clase3.ipynb:\n",
    "\n",
    "Título y Subtítulo:\n",
    "\n",
    "Agregar un título descriptivo para el archivo.\n",
    "Incluir un subtítulo que indique el tipo de ejercicios que se van a realizar.\n",
    "Ejercicios de Datos Complejos:\n",
    "\n"
   ]
  },
  {
   "cell_type": "markdown",
   "metadata": {},
   "source": [
    "1- Datos Simples:\n",
    "\n",
    "Crear una lista de nombres de ciudades."
   ]
  },
  {
   "cell_type": "code",
   "execution_count": 1,
   "metadata": {},
   "outputs": [
    {
     "name": "stdout",
     "output_type": "stream",
     "text": [
      "['Caleta Olivia', 'Río Gallegos', 'Santa Rosa', 'Bariloche', 'Buenos Aires']\n"
     ]
    }
   ],
   "source": [
    "ciudades = ['Caleta Olivia', 'Río Gallegos', 'Santa Rosa','Bariloche', 'Buenos Aires']\n",
    "print(ciudades)"
   ]
  },
  {
   "cell_type": "markdown",
   "metadata": {},
   "source": [
    "Crear un diccionario con información de empleados (nombre, cargo, salario)."
   ]
  },
  {
   "cell_type": "code",
   "execution_count": 3,
   "metadata": {},
   "outputs": [
    {
     "name": "stdout",
     "output_type": "stream",
     "text": [
      "{'1': {'nombre': 'Sergio Pérez', 'cargo': 'Jefe de Taller', 'salario': '4.000 $USD'}, '2': {'nombre': 'Max Verstapen', 'cargo': 'Control de Calidad', 'salario': '3.800 $USD'}, '3': {'nombre': 'Lewis Hamilton', 'cargo': 'Jefe de Mecanicos', 'salario': '3.800 $USD'}, '4': {'nombre': 'Daniel Ricciardo', 'cargo': 'Mecánico', 'salario': '3.000 $USD'}}\n"
     ]
    }
   ],
   "source": [
    "empleados={\n",
    "    \n",
    "    '1':{'nombre':'Sergio Pérez','cargo':'Jefe de Taller','salario':'4.000 $USD'},\n",
    "    '2':{'nombre':'Max Verstapen','cargo':'Control de Calidad','salario':'3.800 $USD'},\n",
    "    '3':{'nombre':'Lewis Hamilton','cargo':'Jefe de Mecanicos','salario':'3.800 $USD'},\n",
    "    '4':{'nombre':'Daniel Ricciardo','cargo':'Mecánico','salario':'3.000 $USD'}\n",
    "}\n",
    "print(empleados)"
   ]
  },
  {
   "cell_type": "markdown",
   "metadata": {},
   "source": [
    "Mostrar cómo acceder a un elemento específico en una lista"
   ]
  },
  {
   "cell_type": "code",
   "execution_count": 4,
   "metadata": {},
   "outputs": [
    {
     "name": "stdout",
     "output_type": "stream",
     "text": [
      "Buenos Aires\n"
     ]
    }
   ],
   "source": [
    "elemento = ciudades[4]\n",
    "print(elemento)"
   ]
  },
  {
   "cell_type": "markdown",
   "metadata": {},
   "source": [
    "Mostrar cómo acceder a un elemento específico en un diccionario."
   ]
  },
  {
   "cell_type": "code",
   "execution_count": 6,
   "metadata": {},
   "outputs": [
    {
     "name": "stdout",
     "output_type": "stream",
     "text": [
      "4.000 $USD\n"
     ]
    }
   ],
   "source": [
    "salario_sergio = empleados['1']['salario']\n",
    "print(salario_sergio)"
   ]
  },
  {
   "cell_type": "code",
   "execution_count": 7,
   "metadata": {},
   "outputs": [
    {
     "name": "stdout",
     "output_type": "stream",
     "text": [
      "Sergio Pérez\n"
     ]
    }
   ],
   "source": [
    "nombre1 = empleados['1']['nombre']\n",
    "print(nombre1)"
   ]
  },
  {
   "cell_type": "code",
   "execution_count": 9,
   "metadata": {},
   "outputs": [
    {
     "name": "stdout",
     "output_type": "stream",
     "text": [
      "4\n"
     ]
    }
   ],
   "source": [
    "cantidad_empleados = len(empleados)\n",
    "print(cantidad_empleados)"
   ]
  },
  {
   "cell_type": "code",
   "execution_count": 11,
   "metadata": {},
   "outputs": [
    {
     "name": "stdout",
     "output_type": "stream",
     "text": [
      "Control de Calidad\n"
     ]
    }
   ],
   "source": [
    "cargo_mv = empleados['2']['cargo']\n",
    "print(cargo_mv)"
   ]
  },
  {
   "cell_type": "markdown",
   "metadata": {},
   "source": [
    "Manipulación de Listas y Métodos:\n",
    "A) Crea una lista inicial de números enteros."
   ]
  },
  {
   "cell_type": "code",
   "execution_count": 3,
   "metadata": {},
   "outputs": [
    {
     "name": "stdout",
     "output_type": "stream",
     "text": [
      "[8, 14, 22, 33, 77, 40, 23, 11, 14, 12]\n"
     ]
    }
   ],
   "source": [
    "numeros_enteros = [8, 14, 22, 33, 77, 40, 23, 11, 14, 12]\n",
    "print(numeros_enteros)"
   ]
  },
  {
   "cell_type": "markdown",
   "metadata": {},
   "source": [
    "B) Utiliza el método .append() para agregar un número al final de la lista."
   ]
  },
  {
   "cell_type": "code",
   "execution_count": 4,
   "metadata": {},
   "outputs": [
    {
     "name": "stdout",
     "output_type": "stream",
     "text": [
      "[8, 14, 22, 33, 77, 40, 23, 11, 14, 12, 100]\n"
     ]
    }
   ],
   "source": [
    "numeros_enteros.append(100)\n",
    "print(numeros_enteros)"
   ]
  },
  {
   "cell_type": "markdown",
   "metadata": {},
   "source": [
    "C) Utiliza el método .extend() para agregar múltiples elementos a la lista"
   ]
  },
  {
   "cell_type": "code",
   "execution_count": 5,
   "metadata": {},
   "outputs": [
    {
     "name": "stdout",
     "output_type": "stream",
     "text": [
      "[8, 14, 22, 33, 77, 40, 23, 11, 14, 12, 100, 98, 120, 250]\n"
     ]
    }
   ],
   "source": [
    "elementos_adicionales = [98,120,250]\n",
    "numeros_enteros.extend(elementos_adicionales)\n",
    "print(numeros_enteros)"
   ]
  },
  {
   "cell_type": "markdown",
   "metadata": {},
   "source": [
    "D) Utiliza el método .insert() para insertar un número en una posición específica de la lista."
   ]
  },
  {
   "cell_type": "code",
   "execution_count": 6,
   "metadata": {},
   "outputs": [
    {
     "name": "stdout",
     "output_type": "stream",
     "text": [
      "[8, 14, 22, 33, 77, 40, 33, 23, 11, 14, 12, 100, 98, 120, 250]\n"
     ]
    }
   ],
   "source": [
    "numeros_enteros.insert(6,33)\n",
    "print(numeros_enteros)"
   ]
  },
  {
   "cell_type": "markdown",
   "metadata": {},
   "source": [
    "Muestra cómo utilizar el método .sort() para ordenar la lista de números de forma ascendente."
   ]
  },
  {
   "cell_type": "code",
   "execution_count": 7,
   "metadata": {},
   "outputs": [
    {
     "name": "stdout",
     "output_type": "stream",
     "text": [
      "[8, 11, 12, 14, 14, 22, 23, 33, 33, 40, 77, 98, 100, 120, 250]\n"
     ]
    }
   ],
   "source": [
    "numeros_enteros.sort()\n",
    "print(numeros_enteros)"
   ]
  },
  {
   "cell_type": "markdown",
   "metadata": {},
   "source": [
    "2 - Manipulación de Diccionarios y Métodos:\n",
    "Crea un diccionario con información de productos (nombre del producto, precio, cantidad en stock)."
   ]
  },
  {
   "cell_type": "code",
   "execution_count": 8,
   "metadata": {},
   "outputs": [
    {
     "name": "stdout",
     "output_type": "stream",
     "text": [
      "{'detergente': {'precio': '2 $USD', 'cantidad en stock': '50'}, 'jabon liquido': {'precio': '4 $USD', 'cantidad en stock': '35'}, 'desodorante': {'precio': '3 $USD', 'cantidad en stock': '40'}, 'papel higienico': {'precio': '2 $USD', 'cantidad en stock': '70'}}\n"
     ]
    }
   ],
   "source": [
    "productos={\n",
    "    \n",
    "    'detergente':{'precio':'2 $USD','cantidad en stock':'50'},\n",
    "    'jabon liquido':{'precio':'4 $USD','cantidad en stock':'35'},\n",
    "    'desodorante':{'precio':'3 $USD','cantidad en stock':'40'},\n",
    "    'papel higienico':{'precio':'2 $USD','cantidad en stock':'70'}\n",
    "}\n",
    "print(productos)"
   ]
  },
  {
   "cell_type": "markdown",
   "metadata": {},
   "source": [
    "Utiliza el método .keys() para obtener una lista de las llaves (nombres de productos) en el diccionario."
   ]
  },
  {
   "cell_type": "code",
   "execution_count": 9,
   "metadata": {},
   "outputs": [
    {
     "name": "stdout",
     "output_type": "stream",
     "text": [
      "['detergente', 'jabon liquido', 'desodorante', 'papel higienico']\n"
     ]
    }
   ],
   "source": [
    "lista_productos=list(productos.keys())\n",
    "print(lista_productos)"
   ]
  },
  {
   "cell_type": "markdown",
   "metadata": {},
   "source": [
    "Utiliza el método .values() para obtener una lista de los valores (precios y cantidades) en el diccionario."
   ]
  },
  {
   "cell_type": "code",
   "execution_count": 10,
   "metadata": {},
   "outputs": [
    {
     "name": "stdout",
     "output_type": "stream",
     "text": [
      "dict_values([{'precio': '2 $USD', 'cantidad en stock': '50'}, {'precio': '4 $USD', 'cantidad en stock': '35'}, {'precio': '3 $USD', 'cantidad en stock': '40'}, {'precio': '2 $USD', 'cantidad en stock': '70'}])\n"
     ]
    }
   ],
   "source": [
    "productos={\n",
    "    \n",
    "    'detergente':{'precio':'2 $USD','cantidad en stock':'50'},\n",
    "    'jabon liquido':{'precio':'4 $USD','cantidad en stock':'35'},\n",
    "    'desodorante':{'precio':'3 $USD','cantidad en stock':'40'},\n",
    "    'papel higienico':{'precio':'2 $USD','cantidad en stock':'70'}\n",
    "}\n",
    "valores = productos.values()\n",
    "print(valores)"
   ]
  },
  {
   "cell_type": "markdown",
   "metadata": {},
   "source": [
    "Utiliza el método .items() para obtener una lista de tuplas con pares clave-valor del diccionario."
   ]
  },
  {
   "cell_type": "code",
   "execution_count": 11,
   "metadata": {},
   "outputs": [
    {
     "name": "stdout",
     "output_type": "stream",
     "text": [
      "dict_items([('detergente', {'precio': '2 $USD', 'cantidad en stock': '50'}), ('jabon liquido', {'precio': '4 $USD', 'cantidad en stock': '35'}), ('desodorante', {'precio': '3 $USD', 'cantidad en stock': '40'}), ('papel higienico', {'precio': '2 $USD', 'cantidad en stock': '70'})])\n"
     ]
    }
   ],
   "source": [
    "print(productos.items())"
   ]
  },
  {
   "cell_type": "markdown",
   "metadata": {},
   "source": [
    "Muestra cómo utilizar el método .get() para obtener el precio de un producto específico del diccionario."
   ]
  },
  {
   "cell_type": "code",
   "execution_count": 12,
   "metadata": {},
   "outputs": [
    {
     "name": "stdout",
     "output_type": "stream",
     "text": [
      "El precio del detergente es: 2 $USD\n"
     ]
    }
   ],
   "source": [
    "precio_detergente = productos.get('detergente').get('precio')\n",
    "print('El precio del detergente es:', precio_detergente)"
   ]
  },
  {
   "cell_type": "markdown",
   "metadata": {},
   "source": [
    "2 - Datos complejos\n",
    "Crear una lista de diccionarios que represente información de libros (título, autor, año de publicación)."
   ]
  },
  {
   "cell_type": "code",
   "execution_count": 14,
   "metadata": {},
   "outputs": [
    {
     "name": "stdout",
     "output_type": "stream",
     "text": [
      "[{'titulo': 'La Odisea', 'autor': 'Homero', 'año de publicacion': 'Siglo VIII a.C'}, {'titulo': 'Cien Años de Soledad', 'autor': 'Gabriel Garcia Marquez', 'año de publicacion': '1967'}, {'titulo': 'Rebelion en la Granja', 'autor': 'George Orwell', 'año de publicacion': '1945'}, {'titulo': 'El Principito', 'autor': 'Antoine de Saint-Exupery', 'año de publicacion': '1943'}]\n"
     ]
    }
   ],
   "source": [
    "libros= [\n",
    "    {'titulo':'La Odisea','autor':'Homero','año de publicacion':'Siglo VIII a.C'},\n",
    "    {'titulo':'Cien Años de Soledad','autor':'Gabriel Garcia Marquez','año de publicacion':'1967'},\n",
    "    {'titulo':'Rebelion en la Granja','autor':'George Orwell','año de publicacion':'1945'},\n",
    "    {'titulo':'El Principito','autor':'Antoine de Saint-Exupery','año de publicacion':'1943'}\n",
    "]\n",
    "print(libros)"
   ]
  },
  {
   "cell_type": "markdown",
   "metadata": {},
   "source": [
    "Crear un diccionario que contenga listas como valores (por ejemplo, un diccionario de estudiantes y sus materias)."
   ]
  },
  {
   "cell_type": "code",
   "execution_count": 15,
   "metadata": {},
   "outputs": [
    {
     "name": "stdout",
     "output_type": "stream",
     "text": [
      "{'George': ['Matematica', 'Fisica', 'Quimica', 'Ingles'], 'Pierre': ['Literatura', 'Biologia', 'Educacion Fisica', 'Geografia'], 'Oscar': ['Estadistica', 'Literatura', 'Física', 'Etica'], 'Lance': ['Artes', 'Matematica', 'Biologia', 'Quimica']}\n"
     ]
    }
   ],
   "source": [
    "estudiantes= {\n",
    "    'George':['Matematica','Fisica','Quimica','Ingles'],\n",
    "    'Pierre':['Literatura','Biologia','Educacion Fisica','Geografia'],\n",
    "    'Oscar':['Estadistica','Literatura','Física','Etica'],\n",
    "    'Lance':['Artes','Matematica','Biologia','Quimica']\n",
    "}\n",
    "print(estudiantes)"
   ]
  },
  {
   "cell_type": "markdown",
   "metadata": {},
   "source": [
    "Mostrar cómo modificar un valor en una lista dentro de un diccionario y viceversa."
   ]
  },
  {
   "cell_type": "code",
   "execution_count": 17,
   "metadata": {},
   "outputs": [
    {
     "name": "stdout",
     "output_type": "stream",
     "text": [
      "{'George': ['Matematica', 'Fisica', 'Quimica', 'Ingles'], 'Pierre': ['Literatura', 'Biologia', 'Educacion Fisica', 'Geografia'], 'Oscar': ['Estadistica', 'Literatura', 'Física', 'Etica'], 'Lance': ['Artes', 'Inglés', 'Biologia', 'Quimica']}\n"
     ]
    }
   ],
   "source": [
    "estudiantes['Lance'][1] = \"Inglés\"\n",
    "print(estudiantes)"
   ]
  },
  {
   "cell_type": "code",
   "execution_count": 20,
   "metadata": {},
   "outputs": [
    {
     "name": "stdout",
     "output_type": "stream",
     "text": [
      "[{'titulo': 'La Odisea', 'autor': 'Homero', 'año de publicacion': 'Siglo VIII a.C'}, {'titulo': 'Cien Años de Soledad', 'autor': 'Gabriel Garcia Marquez', 'año de publicacion': '1967'}, {'titulo': 'Rebelion en la Granja', 'autor': 'George Orwell', 'año de publicacion': '1945'}, {'titulo': 'El Principito', 'autor': 'Antoine de Saint-Exupery', 'año de publicacion': '1943'}]\n"
     ]
    }
   ],
   "source": [
    "libros= [\n",
    "    {'titulo':'La Odisea','autor':'Homero','año de publicacion':'Siglo VIII a.C'},\n",
    "    {'titulo':'Cien Años de Soledad','autor':'Gabriel Garcia Marquez','año de publicacion':'1967'},\n",
    "    {'titulo':'Rebelion en la Granja','autor':'George Orwell','año de publicacion':'1945'},\n",
    "    {'titulo':'El Principito','autor':'Antoine de Saint-Exupery','año de publicacion':'1943'}\n",
    "]\n",
    "print(libros)"
   ]
  },
  {
   "cell_type": "code",
   "execution_count": 22,
   "metadata": {},
   "outputs": [
    {
     "name": "stdout",
     "output_type": "stream",
     "text": [
      "[{'titulo': 'La Iliada', 'autor': 'Homero', 'año de publicacion': 'Siglo VIII a.C'}, {'titulo': 'La Iliada', 'autor': 'Gabriel Garcia Marquez', 'año de publicacion': '1967'}, {'titulo': 'Rebelion en la Granja', 'autor': 'George Orwell', 'año de publicacion': '1945'}, {'titulo': 'El Principito', 'autor': 'Antoine de Saint-Exupery', 'año de publicacion': '1943'}]\n"
     ]
    }
   ],
   "source": [
    "libros[0]['titulo']='La Iliada'\n",
    "print(libros)\n"
   ]
  }
 ],
 "metadata": {
  "kernelspec": {
   "display_name": "Python 3",
   "language": "python",
   "name": "python3"
  },
  "language_info": {
   "codemirror_mode": {
    "name": "ipython",
    "version": 3
   },
   "file_extension": ".py",
   "mimetype": "text/x-python",
   "name": "python",
   "nbconvert_exporter": "python",
   "pygments_lexer": "ipython3",
   "version": "3.11.4"
  }
 },
 "nbformat": 4,
 "nbformat_minor": 2
}
