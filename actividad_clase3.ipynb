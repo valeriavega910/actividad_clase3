{
 "cells": [
  {
   "cell_type": "markdown",
   "metadata": {},
   "source": [
    "Crear un Archivo Jupyter Notebook:\n",
    "\n",
    "Descarga este archivo de instrucciones como referencia.\n",
    "Crea un nuevo archivo Jupyter Notebook llamado actividad_clase3.ipynb.\n",
    "Editar el Archivo Jupyter Notebook:\n",
    "\n",
    "Abre actividad_clase3.ipynb con Jupyter Notebook.\n",
    "Completa el contenido del archivo según las siguientes especificaciones:\n",
    "Contenido del Archivo actividad_clase3.ipynb:\n",
    "\n",
    "Título y Subtítulo:\n",
    "\n",
    "Agregar un título descriptivo para el archivo.\n",
    "Incluir un subtítulo que indique el tipo de ejercicios que se van a realizar.\n",
    "Ejercicios de Datos Complejos:\n",
    "\n"
   ]
  }
 ],
 "metadata": {
  "kernelspec": {
   "display_name": "Python 3",
   "language": "python",
   "name": "python3"
  },
  "language_info": {
   "name": "python",
   "version": "3.11.4"
  }
 },
 "nbformat": 4,
 "nbformat_minor": 2
}
